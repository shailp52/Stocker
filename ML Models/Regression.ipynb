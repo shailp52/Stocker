{
 "cells": [
  {
   "cell_type": "code",
   "execution_count": 10,
   "metadata": {
    "scrolled": true
   },
   "outputs": [
    {
     "data": {
      "text/html": [
       "<div>\n",
       "<style scoped>\n",
       "    .dataframe tbody tr th:only-of-type {\n",
       "        vertical-align: middle;\n",
       "    }\n",
       "\n",
       "    .dataframe tbody tr th {\n",
       "        vertical-align: top;\n",
       "    }\n",
       "\n",
       "    .dataframe thead th {\n",
       "        text-align: right;\n",
       "    }\n",
       "</style>\n",
       "<table border=\"1\" class=\"dataframe\">\n",
       "  <thead>\n",
       "    <tr style=\"text-align: right;\">\n",
       "      <th></th>\n",
       "      <th>Open</th>\n",
       "      <th>High</th>\n",
       "      <th>Low</th>\n",
       "      <th>Close</th>\n",
       "      <th>Adj Close</th>\n",
       "      <th>Volume</th>\n",
       "    </tr>\n",
       "  </thead>\n",
       "  <tbody>\n",
       "    <tr>\n",
       "      <th>0</th>\n",
       "      <td>4263.109863</td>\n",
       "      <td>4301.770020</td>\n",
       "      <td>4247.660156</td>\n",
       "      <td>4300.859863</td>\n",
       "      <td>4300.859863</td>\n",
       "      <td>0.0</td>\n",
       "    </tr>\n",
       "    <tr>\n",
       "      <th>1</th>\n",
       "      <td>4302.959961</td>\n",
       "      <td>4395.310059</td>\n",
       "      <td>4295.399902</td>\n",
       "      <td>4333.899902</td>\n",
       "      <td>4333.899902</td>\n",
       "      <td>0.0</td>\n",
       "    </tr>\n",
       "    <tr>\n",
       "      <th>2</th>\n",
       "      <td>4335.790039</td>\n",
       "      <td>4393.290039</td>\n",
       "      <td>4299.970215</td>\n",
       "      <td>4323.459961</td>\n",
       "      <td>4323.459961</td>\n",
       "      <td>0.0</td>\n",
       "    </tr>\n",
       "    <tr>\n",
       "      <th>3</th>\n",
       "      <td>4332.700195</td>\n",
       "      <td>4347.589844</td>\n",
       "      <td>4300.580078</td>\n",
       "      <td>4323.819824</td>\n",
       "      <td>4323.819824</td>\n",
       "      <td>0.0</td>\n",
       "    </tr>\n",
       "    <tr>\n",
       "      <th>4</th>\n",
       "      <td>4326.810059</td>\n",
       "      <td>4391.009766</td>\n",
       "      <td>4289.490234</td>\n",
       "      <td>4291.450195</td>\n",
       "      <td>4291.450195</td>\n",
       "      <td>0.0</td>\n",
       "    </tr>\n",
       "  </tbody>\n",
       "</table>\n",
       "</div>"
      ],
      "text/plain": [
       "          Open         High          Low        Close    Adj Close  Volume\n",
       "0  4263.109863  4301.770020  4247.660156  4300.859863  4300.859863     0.0\n",
       "1  4302.959961  4395.310059  4295.399902  4333.899902  4333.899902     0.0\n",
       "2  4335.790039  4393.290039  4299.970215  4323.459961  4323.459961     0.0\n",
       "3  4332.700195  4347.589844  4300.580078  4323.819824  4323.819824     0.0\n",
       "4  4326.810059  4391.009766  4289.490234  4291.450195  4291.450195     0.0"
      ]
     },
     "execution_count": 10,
     "metadata": {},
     "output_type": "execute_result"
    }
   ],
   "source": [
    "import pandas as pd\n",
    "import numpy as np\n",
    "from sklearn import linear_model\n",
    "from sklearn import discriminant_analysis\n",
    "import matplotlib.pyplot as plt\n",
    "from ta import *\n",
    "from sklearn.model_selection import train_test_split\n",
    "from sklearn import preprocessing\n",
    "\n",
    "dates = [] \n",
    "prices = []\n",
    "    \n",
    "data = pd.read_csv('SENSEX.csv')\n",
    "data = data.iloc[:,1:]\n",
    "data.head()"
   ]
  },
  {
   "cell_type": "code",
   "execution_count": 11,
   "metadata": {},
   "outputs": [
    {
     "data": {
      "text/html": [
       "<div>\n",
       "<style scoped>\n",
       "    .dataframe tbody tr th:only-of-type {\n",
       "        vertical-align: middle;\n",
       "    }\n",
       "\n",
       "    .dataframe tbody tr th {\n",
       "        vertical-align: top;\n",
       "    }\n",
       "\n",
       "    .dataframe thead th {\n",
       "        text-align: right;\n",
       "    }\n",
       "</style>\n",
       "<table border=\"1\" class=\"dataframe\">\n",
       "  <thead>\n",
       "    <tr style=\"text-align: right;\">\n",
       "      <th></th>\n",
       "      <th>High</th>\n",
       "      <th>Low</th>\n",
       "      <th>Close</th>\n",
       "      <th>Volume</th>\n",
       "      <th>SMA</th>\n",
       "      <th>EMA</th>\n",
       "      <th>STCK</th>\n",
       "      <th>STCD</th>\n",
       "      <th>MACD</th>\n",
       "      <th>RSI</th>\n",
       "      <th>WR</th>\n",
       "      <th>AD</th>\n",
       "      <th>CCI</th>\n",
       "    </tr>\n",
       "  </thead>\n",
       "  <tbody>\n",
       "    <tr>\n",
       "      <th>25</th>\n",
       "      <td>4548.790039</td>\n",
       "      <td>4477.500000</td>\n",
       "      <td>4548.020020</td>\n",
       "      <td>0.0</td>\n",
       "      <td>4297.772998</td>\n",
       "      <td>4298.947369</td>\n",
       "      <td>99.826381</td>\n",
       "      <td>97.571757</td>\n",
       "      <td>33.774560</td>\n",
       "      <td>89.939986</td>\n",
       "      <td>-0.173619</td>\n",
       "      <td>0.0</td>\n",
       "      <td>202.067636</td>\n",
       "    </tr>\n",
       "    <tr>\n",
       "      <th>26</th>\n",
       "      <td>4605.410156</td>\n",
       "      <td>4505.060059</td>\n",
       "      <td>4523.009766</td>\n",
       "      <td>0.0</td>\n",
       "      <td>4324.960986</td>\n",
       "      <td>4320.286645</td>\n",
       "      <td>83.524218</td>\n",
       "      <td>93.304274</td>\n",
       "      <td>44.938459</td>\n",
       "      <td>82.090726</td>\n",
       "      <td>-16.475782</td>\n",
       "      <td>0.0</td>\n",
       "      <td>186.805109</td>\n",
       "    </tr>\n",
       "    <tr>\n",
       "      <th>27</th>\n",
       "      <td>4546.910156</td>\n",
       "      <td>4439.479980</td>\n",
       "      <td>4447.060059</td>\n",
       "      <td>0.0</td>\n",
       "      <td>4347.029981</td>\n",
       "      <td>4332.360303</td>\n",
       "      <td>68.338236</td>\n",
       "      <td>83.896278</td>\n",
       "      <td>47.688752</td>\n",
       "      <td>62.005934</td>\n",
       "      <td>-31.661764</td>\n",
       "      <td>-0.0</td>\n",
       "      <td>131.412153</td>\n",
       "    </tr>\n",
       "    <tr>\n",
       "      <th>28</th>\n",
       "      <td>4467.180176</td>\n",
       "      <td>4373.200195</td>\n",
       "      <td>4397.540039</td>\n",
       "      <td>0.0</td>\n",
       "      <td>4367.802979</td>\n",
       "      <td>4338.567897</td>\n",
       "      <td>54.787280</td>\n",
       "      <td>68.883245</td>\n",
       "      <td>45.710305</td>\n",
       "      <td>51.888912</td>\n",
       "      <td>-45.212720</td>\n",
       "      <td>-0.0</td>\n",
       "      <td>81.868255</td>\n",
       "    </tr>\n",
       "    <tr>\n",
       "      <th>29</th>\n",
       "      <td>4482.509766</td>\n",
       "      <td>4423.689941</td>\n",
       "      <td>4481.299805</td>\n",
       "      <td>0.0</td>\n",
       "      <td>4397.784961</td>\n",
       "      <td>4352.161412</td>\n",
       "      <td>72.198135</td>\n",
       "      <td>65.107884</td>\n",
       "      <td>49.718750</td>\n",
       "      <td>64.023879</td>\n",
       "      <td>-27.801865</td>\n",
       "      <td>0.0</td>\n",
       "      <td>97.693285</td>\n",
       "    </tr>\n",
       "  </tbody>\n",
       "</table>\n",
       "</div>"
      ],
      "text/plain": [
       "           High          Low        Close  Volume          SMA          EMA  \\\n",
       "25  4548.790039  4477.500000  4548.020020     0.0  4297.772998  4298.947369   \n",
       "26  4605.410156  4505.060059  4523.009766     0.0  4324.960986  4320.286645   \n",
       "27  4546.910156  4439.479980  4447.060059     0.0  4347.029981  4332.360303   \n",
       "28  4467.180176  4373.200195  4397.540039     0.0  4367.802979  4338.567897   \n",
       "29  4482.509766  4423.689941  4481.299805     0.0  4397.784961  4352.161412   \n",
       "\n",
       "         STCK       STCD       MACD        RSI         WR   AD         CCI  \n",
       "25  99.826381  97.571757  33.774560  89.939986  -0.173619  0.0  202.067636  \n",
       "26  83.524218  93.304274  44.938459  82.090726 -16.475782  0.0  186.805109  \n",
       "27  68.338236  83.896278  47.688752  62.005934 -31.661764 -0.0  131.412153  \n",
       "28  54.787280  68.883245  45.710305  51.888912 -45.212720 -0.0   81.868255  \n",
       "29  72.198135  65.107884  49.718750  64.023879 -27.801865  0.0   97.693285  "
      ]
     },
     "execution_count": 11,
     "metadata": {},
     "output_type": "execute_result"
    }
   ],
   "source": [
    "X = data.iloc[:,1:]\n",
    "X = X.drop('Adj Close',1)\n",
    "X['SMA'] = X['Close'].rolling(window=10).mean()\n",
    "X['EMA'] = X['Close'].ewm(span=20, adjust=False).mean()\n",
    "X['STCK'] = momentum.stoch(X['High'], X['Low'], X['Close'], n=14, fillna=False)\n",
    "X['STCD'] = momentum.stoch_signal(X['High'], X['Low'], X['Close'], n=14, d_n=3, fillna=False)\n",
    "X['MACD'] = trend.macd(X['Close'], n_fast=12, n_slow=26, fillna=False)\n",
    "X['RSI'] = momentum.rsi(X['Close'], n=10,fillna=False)\n",
    "X['WR'] = momentum.wr(X['High'], X['Low'], X['Close'], lbp=14, fillna=False)\n",
    "X['AD'] = volume.acc_dist_index(X['High'], X['Low'], X['Close'], X['Volume'], fillna=False)\n",
    "X['CCI'] = trend.cci(X['High'], X['Low'], X['Close'], n=20, c=0.015, fillna=False)\n",
    "X = X.iloc[25:,:]\n",
    "X = X.dropna()\n",
    "X.head()\n",
    "normalized_X = preprocessing.normalize(X)\n",
    "#normalized_X\n",
    "X.head()"
   ]
  },
  {
   "cell_type": "code",
   "execution_count": 12,
   "metadata": {},
   "outputs": [],
   "source": [
    "k=0\n",
    "new_X = []\n",
    "j = []\n",
    "X_list = [X.values.tolist()]\n",
    "len(X_list[0])\n",
    "\n",
    "#print(X_list[0])\n",
    "\n",
    "for i in X_list[0]:\n",
    "    l = []\n",
    "#     print(i)\n",
    "#     j=i\n",
    "#     print(j)\n",
    "    if k==0:\n",
    "        k=1\n",
    "        j=i\n",
    "        continue\n",
    "      \n",
    "    #Close\n",
    "    l.append(i[2])\n",
    "    \n",
    "    #SMA\n",
    "    if i[2]>=i[4]:\n",
    "        l.append(1)\n",
    "    else:\n",
    "        l.append(-1)\n",
    "#     print(i[2])\n",
    "    \n",
    "    #EMA\n",
    "    if i[2]>=i[5]:\n",
    "        l.append(1)\n",
    "    else:\n",
    "        l.append(-1)\n",
    "#     print((i[2]>=i[5]))\n",
    "\n",
    "    #Stck\n",
    "    if i[6] >= j[6]:\n",
    "        l.append(1)\n",
    "    else:\n",
    "        l.append(-1)\n",
    "#     print(l)\n",
    "           \n",
    "    #STCD\n",
    "    if i[7] >= j[7]:\n",
    "        l.append(1)\n",
    "    else:\n",
    "        l.append(-1)\n",
    "#     print(l)\n",
    "    \n",
    "    #MACD\n",
    "    if i[8] >= j[8]:\n",
    "        l.append(1)\n",
    "    else:\n",
    "        l.append(-1)\n",
    "#     print(l)\n",
    "        \n",
    "    #RSI\n",
    "    if i[9]<30:\n",
    "        l.append(1)\n",
    "    elif i[9]>70:\n",
    "        l.append(-1)\n",
    "    else:\n",
    "        if i[9]>=j[9]:\n",
    "            l.append(1)\n",
    "        else:\n",
    "            l.append(-1)\n",
    "#     print(l)\n",
    "        \n",
    "    #WR\n",
    "    if i[10] >= j[10]:\n",
    "        l.append(1)\n",
    "    else:\n",
    "        l.append(-1)\n",
    "#     print(l)\n",
    "\n",
    "    #AD\n",
    "    if i[11] >= j[11]:\n",
    "        l.append(1)\n",
    "    else:\n",
    "        l.append(-1)\n",
    "        \n",
    "    #CCI\n",
    "    if i[12]<-200:\n",
    "        l.append(1)\n",
    "    elif i[12]>200:\n",
    "        l.append(-1)\n",
    "    else:\n",
    "        if i[12]>=j[12]:\n",
    "            l.append(1)\n",
    "        else:\n",
    "            l.append(-1)\n",
    "#     print(i[11])\n",
    "#     print(j[11])\n",
    "    \n",
    "\n",
    "#     print(l)\n",
    "    \n",
    "        \n",
    "    #Append to new_X\n",
    "    new_X.append(l)\n",
    "    j=i"
   ]
  },
  {
   "cell_type": "code",
   "execution_count": 13,
   "metadata": {},
   "outputs": [
    {
     "data": {
      "text/html": [
       "<div>\n",
       "<style scoped>\n",
       "    .dataframe tbody tr th:only-of-type {\n",
       "        vertical-align: middle;\n",
       "    }\n",
       "\n",
       "    .dataframe tbody tr th {\n",
       "        vertical-align: top;\n",
       "    }\n",
       "\n",
       "    .dataframe thead th {\n",
       "        text-align: right;\n",
       "    }\n",
       "</style>\n",
       "<table border=\"1\" class=\"dataframe\">\n",
       "  <thead>\n",
       "    <tr style=\"text-align: right;\">\n",
       "      <th></th>\n",
       "      <th>Close</th>\n",
       "      <th>SMA</th>\n",
       "      <th>EMA</th>\n",
       "      <th>STCK</th>\n",
       "      <th>STCD</th>\n",
       "      <th>MACD</th>\n",
       "      <th>RSI</th>\n",
       "      <th>WR</th>\n",
       "      <th>AD</th>\n",
       "      <th>CCI</th>\n",
       "    </tr>\n",
       "  </thead>\n",
       "  <tbody>\n",
       "    <tr>\n",
       "      <th>0</th>\n",
       "      <td>4523.009766</td>\n",
       "      <td>1.0</td>\n",
       "      <td>1.0</td>\n",
       "      <td>-1.0</td>\n",
       "      <td>-1.0</td>\n",
       "      <td>1.0</td>\n",
       "      <td>-1.0</td>\n",
       "      <td>-1.0</td>\n",
       "      <td>1.0</td>\n",
       "      <td>-1.0</td>\n",
       "    </tr>\n",
       "    <tr>\n",
       "      <th>1</th>\n",
       "      <td>4447.060059</td>\n",
       "      <td>1.0</td>\n",
       "      <td>1.0</td>\n",
       "      <td>-1.0</td>\n",
       "      <td>-1.0</td>\n",
       "      <td>1.0</td>\n",
       "      <td>-1.0</td>\n",
       "      <td>-1.0</td>\n",
       "      <td>1.0</td>\n",
       "      <td>-1.0</td>\n",
       "    </tr>\n",
       "    <tr>\n",
       "      <th>2</th>\n",
       "      <td>4397.540039</td>\n",
       "      <td>1.0</td>\n",
       "      <td>1.0</td>\n",
       "      <td>-1.0</td>\n",
       "      <td>-1.0</td>\n",
       "      <td>-1.0</td>\n",
       "      <td>-1.0</td>\n",
       "      <td>-1.0</td>\n",
       "      <td>1.0</td>\n",
       "      <td>-1.0</td>\n",
       "    </tr>\n",
       "    <tr>\n",
       "      <th>3</th>\n",
       "      <td>4481.299805</td>\n",
       "      <td>1.0</td>\n",
       "      <td>1.0</td>\n",
       "      <td>1.0</td>\n",
       "      <td>-1.0</td>\n",
       "      <td>1.0</td>\n",
       "      <td>1.0</td>\n",
       "      <td>1.0</td>\n",
       "      <td>1.0</td>\n",
       "      <td>1.0</td>\n",
       "    </tr>\n",
       "    <tr>\n",
       "      <th>4</th>\n",
       "      <td>4425.029785</td>\n",
       "      <td>1.0</td>\n",
       "      <td>1.0</td>\n",
       "      <td>-1.0</td>\n",
       "      <td>-1.0</td>\n",
       "      <td>-1.0</td>\n",
       "      <td>-1.0</td>\n",
       "      <td>-1.0</td>\n",
       "      <td>1.0</td>\n",
       "      <td>-1.0</td>\n",
       "    </tr>\n",
       "  </tbody>\n",
       "</table>\n",
       "</div>"
      ],
      "text/plain": [
       "         Close  SMA  EMA  STCK  STCD  MACD  RSI   WR   AD  CCI\n",
       "0  4523.009766  1.0  1.0  -1.0  -1.0   1.0 -1.0 -1.0  1.0 -1.0\n",
       "1  4447.060059  1.0  1.0  -1.0  -1.0   1.0 -1.0 -1.0  1.0 -1.0\n",
       "2  4397.540039  1.0  1.0  -1.0  -1.0  -1.0 -1.0 -1.0  1.0 -1.0\n",
       "3  4481.299805  1.0  1.0   1.0  -1.0   1.0  1.0  1.0  1.0  1.0\n",
       "4  4425.029785  1.0  1.0  -1.0  -1.0  -1.0 -1.0 -1.0  1.0 -1.0"
      ]
     },
     "execution_count": 13,
     "metadata": {},
     "output_type": "execute_result"
    }
   ],
   "source": [
    "new_X = pd.DataFrame(new_X, columns =['Close','SMA','EMA','STCK','STCD','MACD','RSI','WR','AD','CCI'], dtype = float)\n",
    "new_X.head()\n"
   ]
  },
  {
   "cell_type": "code",
   "execution_count": 14,
   "metadata": {},
   "outputs": [
    {
     "data": {
      "text/plain": [
       "array([-1, -1,  1, ...,  1,  1, -1])"
      ]
     },
     "execution_count": 14,
     "metadata": {},
     "output_type": "execute_result"
    }
   ],
   "source": [
    "y = np.where (new_X['Close'].shift(-1) > new_X['Close'],1,-1)\n",
    "y"
   ]
  },
  {
   "cell_type": "code",
   "execution_count": 15,
   "metadata": {},
   "outputs": [],
   "source": [
    "#split = int(0.7*len(data))\n",
    "#X_train, X_test, y_train, y_test = X[:split], X[split:], y[:split], y[split:]\n",
    "X_train, X_test, y_train, y_test = train_test_split(new_X, y, test_size=0.28)"
   ]
  },
  {
   "cell_type": "code",
   "execution_count": 16,
   "metadata": {},
   "outputs": [
    {
     "data": {
      "text/plain": [
       "0.5258928571428572"
      ]
     },
     "execution_count": 16,
     "metadata": {},
     "output_type": "execute_result"
    }
   ],
   "source": [
    "logit = linear_model.LogisticRegression(solver='lbfgs')\n",
    "logit.fit(X_train, y_train)\n",
    "logit.score(X_test, y_test)"
   ]
  },
  {
   "cell_type": "code",
   "execution_count": 17,
   "metadata": {},
   "outputs": [
    {
     "data": {
      "text/html": [
       "<div>\n",
       "<style scoped>\n",
       "    .dataframe tbody tr th:only-of-type {\n",
       "        vertical-align: middle;\n",
       "    }\n",
       "\n",
       "    .dataframe tbody tr th {\n",
       "        vertical-align: top;\n",
       "    }\n",
       "\n",
       "    .dataframe thead th {\n",
       "        text-align: right;\n",
       "    }\n",
       "</style>\n",
       "<table border=\"1\" class=\"dataframe\">\n",
       "  <thead>\n",
       "    <tr style=\"text-align: right;\">\n",
       "      <th></th>\n",
       "      <th>0</th>\n",
       "      <th>1</th>\n",
       "    </tr>\n",
       "  </thead>\n",
       "  <tbody>\n",
       "    <tr>\n",
       "      <th>0</th>\n",
       "      <td>High</td>\n",
       "      <td>[5.299879534846339e-06]</td>\n",
       "    </tr>\n",
       "    <tr>\n",
       "      <th>1</th>\n",
       "      <td>Low</td>\n",
       "      <td>[4.988957061336524e-09]</td>\n",
       "    </tr>\n",
       "    <tr>\n",
       "      <th>2</th>\n",
       "      <td>Close</td>\n",
       "      <td>[3.3531066664806878e-09]</td>\n",
       "    </tr>\n",
       "    <tr>\n",
       "      <th>3</th>\n",
       "      <td>Volume</td>\n",
       "      <td>[8.327279721178514e-09]</td>\n",
       "    </tr>\n",
       "    <tr>\n",
       "      <th>4</th>\n",
       "      <td>SMA</td>\n",
       "      <td>[6.954587055135305e-09]</td>\n",
       "    </tr>\n",
       "    <tr>\n",
       "      <th>5</th>\n",
       "      <td>EMA</td>\n",
       "      <td>[6.820926703532051e-09]</td>\n",
       "    </tr>\n",
       "    <tr>\n",
       "      <th>6</th>\n",
       "      <td>STCK</td>\n",
       "      <td>[2.3204640992899313e-09]</td>\n",
       "    </tr>\n",
       "    <tr>\n",
       "      <th>7</th>\n",
       "      <td>STCD</td>\n",
       "      <td>[8.327279721178514e-09]</td>\n",
       "    </tr>\n",
       "    <tr>\n",
       "      <th>8</th>\n",
       "      <td>MACD</td>\n",
       "      <td>[2.881001000926184e-09]</td>\n",
       "    </tr>\n",
       "    <tr>\n",
       "      <th>9</th>\n",
       "      <td>RSI</td>\n",
       "      <td>[7.007084832903353e-09]</td>\n",
       "    </tr>\n",
       "  </tbody>\n",
       "</table>\n",
       "</div>"
      ],
      "text/plain": [
       "        0                         1\n",
       "0    High   [5.299879534846339e-06]\n",
       "1     Low   [4.988957061336524e-09]\n",
       "2   Close  [3.3531066664806878e-09]\n",
       "3  Volume   [8.327279721178514e-09]\n",
       "4     SMA   [6.954587055135305e-09]\n",
       "5     EMA   [6.820926703532051e-09]\n",
       "6    STCK  [2.3204640992899313e-09]\n",
       "7    STCD   [8.327279721178514e-09]\n",
       "8    MACD   [2.881001000926184e-09]\n",
       "9     RSI   [7.007084832903353e-09]"
      ]
     },
     "execution_count": 17,
     "metadata": {},
     "output_type": "execute_result"
    }
   ],
   "source": [
    "pd.DataFrame(zip(X.columns, np.transpose(logit.coef_)))"
   ]
  },
  {
   "cell_type": "code",
   "execution_count": 18,
   "metadata": {},
   "outputs": [
    {
     "data": {
      "text/plain": [
       "0.5258928571428572"
      ]
     },
     "execution_count": 18,
     "metadata": {},
     "output_type": "execute_result"
    }
   ],
   "source": [
    "logit.score(X_test, y_test)"
   ]
  },
  {
   "cell_type": "code",
   "execution_count": 19,
   "metadata": {},
   "outputs": [
    {
     "name": "stderr",
     "output_type": "stream",
     "text": [
      "C:\\Users\\shail\\Anaconda3\\lib\\site-packages\\sklearn\\discriminant_analysis.py:388: UserWarning: Variables are collinear.\n",
      "  warnings.warn(\"Variables are collinear.\")\n"
     ]
    },
    {
     "data": {
      "text/plain": [
       "LinearDiscriminantAnalysis(n_components=None, priors=None, shrinkage=None,\n",
       "              solver='svd', store_covariance=False, tol=0.0001)"
      ]
     },
     "execution_count": 19,
     "metadata": {},
     "output_type": "execute_result"
    }
   ],
   "source": [
    "model = discriminant_analysis.LinearDiscriminantAnalysis()\n",
    "model.fit(X_train,y_train)"
   ]
  },
  {
   "cell_type": "code",
   "execution_count": 20,
   "metadata": {},
   "outputs": [
    {
     "data": {
      "text/plain": [
       "0.5294642857142857"
      ]
     },
     "execution_count": 20,
     "metadata": {},
     "output_type": "execute_result"
    }
   ],
   "source": [
    "model.score(X_test, y_test)"
   ]
  },
  {
   "cell_type": "code",
   "execution_count": 23,
   "metadata": {},
   "outputs": [
    {
     "name": "stderr",
     "output_type": "stream",
     "text": [
      "C:\\Users\\shail\\Anaconda3\\lib\\site-packages\\sklearn\\discriminant_analysis.py:692: UserWarning: Variables are collinear\n",
      "  warnings.warn(\"Variables are collinear\")\n"
     ]
    }
   ],
   "source": [
    "qda = discriminant_analysis.QuadraticDiscriminantAnalysis()\n",
    "model = qda.fit(X_train, y_train)"
   ]
  },
  {
   "cell_type": "code",
   "execution_count": 24,
   "metadata": {},
   "outputs": [
    {
     "data": {
      "text/plain": [
       "0.49375"
      ]
     },
     "execution_count": 24,
     "metadata": {},
     "output_type": "execute_result"
    }
   ],
   "source": [
    "model.score(X_test, y_test)"
   ]
  },
  {
   "cell_type": "code",
   "execution_count": null,
   "metadata": {},
   "outputs": [],
   "source": []
  }
 ],
 "metadata": {
  "kernelspec": {
   "display_name": "Python 3",
   "language": "python",
   "name": "python3"
  },
  "language_info": {
   "codemirror_mode": {
    "name": "ipython",
    "version": 3
   },
   "file_extension": ".py",
   "mimetype": "text/x-python",
   "name": "python",
   "nbconvert_exporter": "python",
   "pygments_lexer": "ipython3",
   "version": "3.7.3"
  }
 },
 "nbformat": 4,
 "nbformat_minor": 2
}
